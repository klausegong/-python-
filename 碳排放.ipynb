{
 "cells": [
  {
   "cell_type": "code",
   "execution_count": 246,
   "metadata": {
    "collapsed": true
   },
   "outputs": [],
   "source": [
    "import requests\n",
    "from bs4 import BeautifulSoup\n",
    "import os\n",
    "from pyquery import PyQuery as pq\n",
    "from datetime import datetime, timedelta\n",
    "import pandas as pd\n",
    "import json\n",
    "import numpy as np\n",
    "from pandas import Series, DataFrame\n"
   ]
  },
  {
   "cell_type": "code",
   "execution_count": 204,
   "metadata": {
    "collapsed": true
   },
   "outputs": [],
   "source": [
    "url=('https://www.eex.com/data//view/data/detail/emission-eua-spot-v2/2019/02.05.json')"
   ]
  },
  {
   "cell_type": "code",
   "execution_count": 288,
   "metadata": {},
   "outputs": [],
   "source": [
    "res=requests.get(url)"
   ]
  },
  {
   "cell_type": "code",
   "execution_count": 289,
   "metadata": {},
   "outputs": [
    {
     "data": {
      "text/plain": [
       "requests.models.Response"
      ]
     },
     "execution_count": 289,
     "metadata": {},
     "output_type": "execute_result"
    }
   ],
   "source": [
    "type(res)"
   ]
  },
  {
   "cell_type": "code",
   "execution_count": 290,
   "metadata": {
    "scrolled": true
   },
   "outputs": [],
   "source": [
    "result=json.loads(res.text)"
   ]
  },
  {
   "cell_type": "code",
   "execution_count": 291,
   "metadata": {
    "scrolled": true
   },
   "outputs": [
    {
     "data": {
      "text/plain": [
       "dict"
      ]
     },
     "execution_count": 291,
     "metadata": {},
     "output_type": "execute_result"
    }
   ],
   "source": [
    "type(result)"
   ]
  },
  {
   "cell_type": "code",
   "execution_count": 325,
   "metadata": {},
   "outputs": [
    {
     "data": {
      "text/plain": [
       "True"
      ]
     },
     "execution_count": 325,
     "metadata": {},
     "output_type": "execute_result"
    }
   ],
   "source": [
    "settlementPrice in result"
   ]
  },
  {
   "cell_type": "code",
   "execution_count": 337,
   "metadata": {
    "scrolled": true
   },
   "outputs": [
    {
     "data": {
      "text/plain": [
       "dict_items([('data', [{'identifier': 'P-Emission-S-EU-EUA', 'rows': [{'data': {'product_field:contract_definition_type': 'LIST', 'lastTradePrice': 22.6, 'highPrice': 23.27, 'external_code:bloomberg': 'EEXX02EA Comdty', 'dataSeriesId': 'C-Emission-S-EU-EUA-P3', 'contract_field:product_code': 'EUSP', 'product_field:delay_website': 0, 'uniqueStatisticId': 'a70614f8ef3e6d23253d41f487de700aa2a1be49', 'external_code:wkn': 'A1DKQ9', 'product_field:trading_until': '2021-05-01T23:59:59+02:00', 'lastTradeVolume': 2000.0, 'product_field:identifier': 'P-Emission-S-EU-EUA', 'volumeExchange': 68000.0, 'noOfTradesTotal': 21.0, 'external_code:isin': 'DE000A1DKQ99', 'product_field:name': 'EU Emission Allowance', 'volumeTotal': 68000.0, 'deliveryPeriodEnd': '2021-04-30T23:59:59+02:00', 'noOfTradedContractsExchange': 68000.0, 'noOfTradedContractsTotal': 68000.0, 'settlementPrice': 23.04, 'product_field:unit': 'EUR/tCO2', 'volumeOtc': 0.0, 'product_field:currency': 'EUR', 'contract_field:timestamp_of_occurrence': '2019-02-05T18:52:22+01:00', 'product_field:delay_infoproducts': 0, 'marketAreaSell': 'EU', 'deliveryPeriodStart': '2012-07-01T00:00:00+02:00', 'contract_field:contract_code': '2013-2020', 'lastTradeTime': '2019-02-05T15:10:50+01:00', 'marketAreaBuy': 'EU', 'tradingPeriodStart': '2019-02-05T00:00:00+01:00', 'product_field:trading_from': '2000-01-01T00:00:00+01:00', 'external_code:reuters': 'EUSP.DE', 'openingPrice': 23.16, 'product_field:short_name': 'EUA', 'tradingPeriodEnd': '2019-02-05T23:59:59+01:00', 'lowPrice': 22.6, 'lastTradeNoOfContracts': 2000.0, 'noOfTradesExchange': 21.0, 'contract_field:user_value_text3': 'EU', 'contract_field:identifier': 'C-Emission-S-EU-EUA-P3', 'noOfTradedContractsOtc': 0.0, 'closingPrice': 22.6, 'noOfTradesOtc': 0.0}, 'contractIdentifier': 'C-Emission-S-EU-EUA-P3'}]}])])"
      ]
     },
     "execution_count": 337,
     "metadata": {},
     "output_type": "execute_result"
    }
   ],
   "source": [
    "result.items()"
   ]
  },
  {
   "cell_type": "code",
   "execution_count": 324,
   "metadata": {
    "scrolled": true
   },
   "outputs": [
    {
     "name": "stdout",
     "output_type": "stream",
     "text": [
      "data [{'identifier': 'P-Emission-S-EU-EUA', 'rows': [{'data': {'product_field:contract_definition_type': 'LIST', 'lastTradePrice': 22.6, 'highPrice': 23.27, 'external_code:bloomberg': 'EEXX02EA Comdty', 'dataSeriesId': 'C-Emission-S-EU-EUA-P3', 'contract_field:product_code': 'EUSP', 'product_field:delay_website': 0, 'uniqueStatisticId': 'a70614f8ef3e6d23253d41f487de700aa2a1be49', 'external_code:wkn': 'A1DKQ9', 'product_field:trading_until': '2021-05-01T23:59:59+02:00', 'lastTradeVolume': 2000.0, 'product_field:identifier': 'P-Emission-S-EU-EUA', 'volumeExchange': 68000.0, 'noOfTradesTotal': 21.0, 'external_code:isin': 'DE000A1DKQ99', 'product_field:name': 'EU Emission Allowance', 'volumeTotal': 68000.0, 'deliveryPeriodEnd': '2021-04-30T23:59:59+02:00', 'noOfTradedContractsExchange': 68000.0, 'noOfTradedContractsTotal': 68000.0, 'settlementPrice': 23.04, 'product_field:unit': 'EUR/tCO2', 'volumeOtc': 0.0, 'product_field:currency': 'EUR', 'contract_field:timestamp_of_occurrence': '2019-02-05T18:52:22+01:00', 'product_field:delay_infoproducts': 0, 'marketAreaSell': 'EU', 'deliveryPeriodStart': '2012-07-01T00:00:00+02:00', 'contract_field:contract_code': '2013-2020', 'lastTradeTime': '2019-02-05T15:10:50+01:00', 'marketAreaBuy': 'EU', 'tradingPeriodStart': '2019-02-05T00:00:00+01:00', 'product_field:trading_from': '2000-01-01T00:00:00+01:00', 'external_code:reuters': 'EUSP.DE', 'openingPrice': 23.16, 'product_field:short_name': 'EUA', 'tradingPeriodEnd': '2019-02-05T23:59:59+01:00', 'lowPrice': 22.6, 'lastTradeNoOfContracts': 2000.0, 'noOfTradesExchange': 21.0, 'contract_field:user_value_text3': 'EU', 'contract_field:identifier': 'C-Emission-S-EU-EUA-P3', 'noOfTradedContractsOtc': 0.0, 'closingPrice': 22.6, 'noOfTradesOtc': 0.0}, 'contractIdentifier': 'C-Emission-S-EU-EUA-P3'}]}]\n"
     ]
    }
   ],
   "source": [
    "for settlementPrice in result:\n",
    "    print(settlementPrice,result[settlementPrice])"
   ]
  },
  {
   "cell_type": "code",
   "execution_count": 311,
   "metadata": {},
   "outputs": [],
   "source": [
    "result2=pd.DataFrame(result1)"
   ]
  },
  {
   "cell_type": "code",
   "execution_count": 319,
   "metadata": {},
   "outputs": [
    {
     "data": {
      "text/html": [
       "<div>\n",
       "<style>\n",
       "    .dataframe thead tr:only-child th {\n",
       "        text-align: right;\n",
       "    }\n",
       "\n",
       "    .dataframe thead th {\n",
       "        text-align: left;\n",
       "    }\n",
       "\n",
       "    .dataframe tbody tr th {\n",
       "        vertical-align: top;\n",
       "    }\n",
       "</style>\n",
       "<table border=\"1\" class=\"dataframe\">\n",
       "  <thead>\n",
       "    <tr style=\"text-align: right;\">\n",
       "      <th></th>\n",
       "      <th>identifier</th>\n",
       "      <th>rows</th>\n",
       "    </tr>\n",
       "  </thead>\n",
       "  <tbody>\n",
       "    <tr>\n",
       "      <th>0</th>\n",
       "      <td>P-Emission-S-EU-EUA</td>\n",
       "      <td>[{'data': {'product_field:contract_definition_...</td>\n",
       "    </tr>\n",
       "  </tbody>\n",
       "</table>\n",
       "</div>"
      ],
      "text/plain": [
       "            identifier                                               rows\n",
       "0  P-Emission-S-EU-EUA  [{'data': {'product_field:contract_definition_..."
      ]
     },
     "execution_count": 319,
     "metadata": {},
     "output_type": "execute_result"
    }
   ],
   "source": [
    "result2"
   ]
  },
  {
   "cell_type": "code",
   "execution_count": 347,
   "metadata": {
    "scrolled": true
   },
   "outputs": [
    {
     "ename": "TypeError",
     "evalue": "get() takes no keyword arguments",
     "output_type": "error",
     "traceback": [
      "\u001b[1;31m---------------------------------------------------------------------------\u001b[0m",
      "\u001b[1;31mTypeError\u001b[0m                                 Traceback (most recent call last)",
      "\u001b[1;32m<ipython-input-347-7e82b240e6af>\u001b[0m in \u001b[0;36m<module>\u001b[1;34m()\u001b[0m\n\u001b[1;32m----> 1\u001b[1;33m \u001b[0mresult\u001b[0m\u001b[1;33m.\u001b[0m\u001b[0mget\u001b[0m\u001b[1;33m(\u001b[0m\u001b[1;34m'rows'\u001b[0m\u001b[1;33m,\u001b[0m\u001b[0mdefault\u001b[0m\u001b[1;33m=\u001b[0m\u001b[1;32mNone\u001b[0m\u001b[1;33m)\u001b[0m\u001b[1;33m\u001b[0m\u001b[0m\n\u001b[0m",
      "\u001b[1;31mTypeError\u001b[0m: get() takes no keyword arguments"
     ]
    }
   ],
   "source": [
    "result.get('rows',default=None)"
   ]
  },
  {
   "cell_type": "code",
   "execution_count": 351,
   "metadata": {},
   "outputs": [
    {
     "data": {
      "text/plain": [
       "[{'identifier': 'P-Emission-S-EU-EUA',\n",
       "  'rows': [{'contractIdentifier': 'C-Emission-S-EU-EUA-P3',\n",
       "    'data': {'closingPrice': 22.6,\n",
       "     'contract_field:contract_code': '2013-2020',\n",
       "     'contract_field:identifier': 'C-Emission-S-EU-EUA-P3',\n",
       "     'contract_field:product_code': 'EUSP',\n",
       "     'contract_field:timestamp_of_occurrence': '2019-02-05T18:52:22+01:00',\n",
       "     'contract_field:user_value_text3': 'EU',\n",
       "     'dataSeriesId': 'C-Emission-S-EU-EUA-P3',\n",
       "     'deliveryPeriodEnd': '2021-04-30T23:59:59+02:00',\n",
       "     'deliveryPeriodStart': '2012-07-01T00:00:00+02:00',\n",
       "     'external_code:bloomberg': 'EEXX02EA Comdty',\n",
       "     'external_code:isin': 'DE000A1DKQ99',\n",
       "     'external_code:reuters': 'EUSP.DE',\n",
       "     'external_code:wkn': 'A1DKQ9',\n",
       "     'highPrice': 23.27,\n",
       "     'lastTradeNoOfContracts': 2000.0,\n",
       "     'lastTradePrice': 22.6,\n",
       "     'lastTradeTime': '2019-02-05T15:10:50+01:00',\n",
       "     'lastTradeVolume': 2000.0,\n",
       "     'lowPrice': 22.6,\n",
       "     'marketAreaBuy': 'EU',\n",
       "     'marketAreaSell': 'EU',\n",
       "     'noOfTradedContractsExchange': 68000.0,\n",
       "     'noOfTradedContractsOtc': 0.0,\n",
       "     'noOfTradedContractsTotal': 68000.0,\n",
       "     'noOfTradesExchange': 21.0,\n",
       "     'noOfTradesOtc': 0.0,\n",
       "     'noOfTradesTotal': 21.0,\n",
       "     'openingPrice': 23.16,\n",
       "     'product_field:contract_definition_type': 'LIST',\n",
       "     'product_field:currency': 'EUR',\n",
       "     'product_field:delay_infoproducts': 0,\n",
       "     'product_field:delay_website': 0,\n",
       "     'product_field:identifier': 'P-Emission-S-EU-EUA',\n",
       "     'product_field:name': 'EU Emission Allowance',\n",
       "     'product_field:short_name': 'EUA',\n",
       "     'product_field:trading_from': '2000-01-01T00:00:00+01:00',\n",
       "     'product_field:trading_until': '2021-05-01T23:59:59+02:00',\n",
       "     'product_field:unit': 'EUR/tCO2',\n",
       "     'settlementPrice': 23.04,\n",
       "     'tradingPeriodEnd': '2019-02-05T23:59:59+01:00',\n",
       "     'tradingPeriodStart': '2019-02-05T00:00:00+01:00',\n",
       "     'uniqueStatisticId': 'a70614f8ef3e6d23253d41f487de700aa2a1be49',\n",
       "     'volumeExchange': 68000.0,\n",
       "     'volumeOtc': 0.0,\n",
       "     'volumeTotal': 68000.0}}]}]"
      ]
     },
     "execution_count": 351,
     "metadata": {},
     "output_type": "execute_result"
    }
   ],
   "source": [
    "result1"
   ]
  },
  {
   "cell_type": "code",
   "execution_count": 348,
   "metadata": {},
   "outputs": [],
   "source": [
    "result0=result1[0]"
   ]
  },
  {
   "cell_type": "code",
   "execution_count": 353,
   "metadata": {},
   "outputs": [
    {
     "data": {
      "text/plain": [
       "list"
      ]
     },
     "execution_count": 353,
     "metadata": {},
     "output_type": "execute_result"
    }
   ],
   "source": [
    "type(result1)"
   ]
  },
  {
   "cell_type": "code",
   "execution_count": null,
   "metadata": {
    "collapsed": true
   },
   "outputs": [],
   "source": []
  }
 ],
 "metadata": {
  "kernelspec": {
   "display_name": "Python 3",
   "language": "python",
   "name": "python3"
  },
  "language_info": {
   "codemirror_mode": {
    "name": "ipython",
    "version": 3
   },
   "file_extension": ".py",
   "mimetype": "text/x-python",
   "name": "python",
   "nbconvert_exporter": "python",
   "pygments_lexer": "ipython3",
   "version": "3.6.3"
  }
 },
 "nbformat": 4,
 "nbformat_minor": 2
}
